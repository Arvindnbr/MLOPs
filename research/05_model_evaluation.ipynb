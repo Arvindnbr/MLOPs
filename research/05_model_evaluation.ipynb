{
 "cells": [
  {
   "cell_type": "code",
   "execution_count": 3,
   "metadata": {},
   "outputs": [],
   "source": [
    "import os\n",
    "os.chdir('x:\\\\DL\\\\Projects\\\\MLOPs')"
   ]
  },
  {
   "cell_type": "code",
   "execution_count": 5,
   "metadata": {},
   "outputs": [],
   "source": [
    "os.environ['MLFLOW_TRACKING_URI'] = \"https://dagshub.com/Arvindnbr/MLOPs.mlflow\"\n",
    "os.environ['MLFLOW_TRACKING_USERNAME'] = \"Arvindnbr\"\n",
    "os.environ['MLFLOW_TRACKING_PASSWORD'] = \"8c6859b07415cf12c0c55efd2db05639fcd2dd3d\"\n",
    "\n",
    "#set the variable to the enviornments"
   ]
  },
  {
   "cell_type": "code",
   "execution_count": 7,
   "metadata": {},
   "outputs": [],
   "source": [
    "from ultralytics import YOLO\n",
    "model = YOLO('X:\\\\DL\\\\Projects\\\\MLOPs\\\\runs\\\\detect\\\\train11\\\\weights\\\\best.pt')"
   ]
  },
  {
   "cell_type": "code",
   "execution_count": 8,
   "metadata": {},
   "outputs": [],
   "source": [
    "from dataclasses import dataclass\n",
    "from pathlib import Path\n",
    "\n",
    "@dataclass(frozen=True)\n",
    "class EvaluationConfig:\n",
    "    path_of_model: Path\n",
    "    trainig_data: Path\n",
    "    all_params: dict\n",
    "    mlflow_uri: str\n",
    "    params_img_size: list\n",
    "    params_batch_size: int"
   ]
  },
  {
   "cell_type": "code",
   "execution_count": 9,
   "metadata": {},
   "outputs": [],
   "source": [
    "from scripts.MLOPs.constants import *\n",
    "from scripts.MLOPs.utils.common import read_yaml, create_directories, save_json"
   ]
  },
  {
   "cell_type": "code",
   "execution_count": 10,
   "metadata": {},
   "outputs": [],
   "source": [
    "class ConfigurationManager:\n",
    "    def __init__(self,config_filepath = CONFIG_FILE_PATH, params_filepath = PARAMS_FILE_PATH):\n",
    "        self.config = read_yaml(config_filepath)\n",
    "        self.params = read_yaml(params_filepath)\n",
    "        create_directories([self.config.artifacts_root])\n",
    "\n",
    "    def get_evaluation_config(self)-> EvaluationConfig:\n",
    "        config = self.config.evaluation\n",
    "        eval_config = EvaluationConfig(\n",
    "            path_of_model=self.config.path_of_model,\n",
    "            training_data=self.config.training_data,\n",
    "            all_params=self.params,\n",
    "            params_img_size=self.params.image_size,\n",
    "            params_batch_size=self.params.batch\n",
    "        )\n",
    "        return eval_config"
   ]
  },
  {
   "cell_type": "code",
   "execution_count": null,
   "metadata": {},
   "outputs": [],
   "source": [
    "class Evaluation:\n",
    "    def __init__(self, config: EvaluationConfig):\n",
    "        self.config = config\n",
    "\n",
    "    @staticmethod\n",
    "    def load_model(self):\n",
    "        return YOLO(self.config.path_of_model)\n",
    "    \n",
    "    def evaluation(self):\n",
    "        "
   ]
  },
  {
   "cell_type": "code",
   "execution_count": null,
   "metadata": {},
   "outputs": [],
   "source": [
    "import dagshub\n",
    "dagshub.init(repo_owner='Arvindnbr', repo_name='MLOPs', mlflow=True)\n",
    "\n",
    "import mlflow\n",
    "with mlflow.start_run():\n",
    "  mlflow.log_param('parameter name', 'value')\n",
    "  mlflow.log_metric('metric name', 1)"
   ]
  },
  {
   "cell_type": "code",
   "execution_count": null,
   "metadata": {},
   "outputs": [],
   "source": []
  },
  {
   "cell_type": "code",
   "execution_count": 1,
   "metadata": {},
   "outputs": [
    {
     "name": "stdout",
     "output_type": "stream",
     "text": [
      "MLFLOW_TRACKING_URI:  X:/DL/Projects/MLOPs/artifacts/mlruns\n",
      "Downloading https://github.com/ultralytics/assets/releases/download/v8.2.0/yolov8n.pt to 'yolov8n.pt'...\n"
     ]
    },
    {
     "name": "stderr",
     "output_type": "stream",
     "text": [
      "100%|██████████| 6.25M/6.25M [00:00<00:00, 13.5MB/s]\n",
      "2024/07/29 17:58:38 WARNING mlflow.utils.autologging_utils: You are using an unsupported version of pytorch. If you encounter errors during autologging, try upgrading / downgrading pytorch to a supported version, or try upgrading MLflow.\n"
     ]
    },
    {
     "ename": "UnsupportedModelRegistryStoreURIException",
     "evalue": " Model registry functionality is unavailable; got unsupported URI 'X:/DL/Projects/MLOPs/artifacts/mlruns' for model registry data storage. Supported URI schemes are: ['', 'file', 'databricks', 'databricks-uc', 'http', 'https', 'postgresql', 'mysql', 'sqlite', 'mssql']. See https://www.mlflow.org/docs/latest/tracking.html#storage for how to run an MLflow server against one of the supported backend storage locations.",
     "output_type": "error",
     "traceback": [
      "\u001b[1;31m---------------------------------------------------------------------------\u001b[0m",
      "\u001b[1;31mKeyError\u001b[0m                                  Traceback (most recent call last)",
      "File \u001b[1;32mc:\\Users\\aravi\\anaconda3\\envs\\MLOPs\\lib\\site-packages\\mlflow\\tracking\\registry.py:81\u001b[0m, in \u001b[0;36mStoreRegistry.get_store_builder\u001b[1;34m(self, store_uri)\u001b[0m\n\u001b[0;32m     80\u001b[0m \u001b[38;5;28;01mtry\u001b[39;00m:\n\u001b[1;32m---> 81\u001b[0m     store_builder \u001b[38;5;241m=\u001b[39m \u001b[38;5;28;43mself\u001b[39;49m\u001b[38;5;241;43m.\u001b[39;49m\u001b[43m_registry\u001b[49m\u001b[43m[\u001b[49m\u001b[43mscheme\u001b[49m\u001b[43m]\u001b[49m\n\u001b[0;32m     82\u001b[0m \u001b[38;5;28;01mexcept\u001b[39;00m \u001b[38;5;167;01mKeyError\u001b[39;00m:\n",
      "\u001b[1;31mKeyError\u001b[0m: 'x'",
      "\nDuring handling of the above exception, another exception occurred:\n",
      "\u001b[1;31mUnsupportedModelRegistryStoreURIException\u001b[0m Traceback (most recent call last)",
      "Cell \u001b[1;32mIn[1], line 20\u001b[0m\n\u001b[0;32m     18\u001b[0m settings\u001b[38;5;241m.\u001b[39mreset()\n\u001b[0;32m     19\u001b[0m mlflow\u001b[38;5;241m.\u001b[39mpytorch\u001b[38;5;241m.\u001b[39mautolog(log_models\u001b[38;5;241m=\u001b[39m\u001b[38;5;28;01mTrue\u001b[39;00m)\n\u001b[1;32m---> 20\u001b[0m \u001b[43mmlflow\u001b[49m\u001b[38;5;241;43m.\u001b[39;49m\u001b[43mset_experiment\u001b[49m\u001b[43m(\u001b[49m\u001b[43mexperiment_name\u001b[49m\u001b[43m)\u001b[49m \u001b[38;5;66;03m# Set the experiment name.\u001b[39;00m\n\u001b[0;32m     22\u001b[0m \u001b[38;5;28;01mwith\u001b[39;00m mlflow\u001b[38;5;241m.\u001b[39mstart_run(run_name\u001b[38;5;241m=\u001b[39mrun_name) \u001b[38;5;28;01mas\u001b[39;00m run: \u001b[38;5;66;03m# The run_name is the name of the execution task.\u001b[39;00m\n\u001b[0;32m     24\u001b[0m     run_id \u001b[38;5;241m=\u001b[39m run\u001b[38;5;241m.\u001b[39minfo\u001b[38;5;241m.\u001b[39mrun_id \u001b[38;5;66;03m# The run_id is the directory name that will be stored within the MLFLOW_TRACKING_URI path.\u001b[39;00m\n",
      "File \u001b[1;32mc:\\Users\\aravi\\anaconda3\\envs\\MLOPs\\lib\\site-packages\\mlflow\\tracking\\fluent.py:141\u001b[0m, in \u001b[0;36mset_experiment\u001b[1;34m(experiment_name, experiment_id)\u001b[0m\n\u001b[0;32m    133\u001b[0m \u001b[38;5;28;01mif\u001b[39;00m (experiment_name \u001b[38;5;129;01mis\u001b[39;00m \u001b[38;5;129;01mnot\u001b[39;00m \u001b[38;5;28;01mNone\u001b[39;00m \u001b[38;5;129;01mand\u001b[39;00m experiment_id \u001b[38;5;129;01mis\u001b[39;00m \u001b[38;5;129;01mnot\u001b[39;00m \u001b[38;5;28;01mNone\u001b[39;00m) \u001b[38;5;129;01mor\u001b[39;00m (\n\u001b[0;32m    134\u001b[0m     experiment_name \u001b[38;5;129;01mis\u001b[39;00m \u001b[38;5;28;01mNone\u001b[39;00m \u001b[38;5;129;01mand\u001b[39;00m experiment_id \u001b[38;5;129;01mis\u001b[39;00m \u001b[38;5;28;01mNone\u001b[39;00m\n\u001b[0;32m    135\u001b[0m ):\n\u001b[0;32m    136\u001b[0m     \u001b[38;5;28;01mraise\u001b[39;00m MlflowException(\n\u001b[0;32m    137\u001b[0m         message\u001b[38;5;241m=\u001b[39m\u001b[38;5;124m\"\u001b[39m\u001b[38;5;124mMust specify exactly one of: `experiment_id` or `experiment_name`.\u001b[39m\u001b[38;5;124m\"\u001b[39m,\n\u001b[0;32m    138\u001b[0m         error_code\u001b[38;5;241m=\u001b[39mINVALID_PARAMETER_VALUE,\n\u001b[0;32m    139\u001b[0m     )\n\u001b[1;32m--> 141\u001b[0m client \u001b[38;5;241m=\u001b[39m \u001b[43mMlflowClient\u001b[49m\u001b[43m(\u001b[49m\u001b[43m)\u001b[49m\n\u001b[0;32m    142\u001b[0m \u001b[38;5;28;01mif\u001b[39;00m experiment_id \u001b[38;5;129;01mis\u001b[39;00m \u001b[38;5;28;01mNone\u001b[39;00m:\n\u001b[0;32m    143\u001b[0m     experiment \u001b[38;5;241m=\u001b[39m client\u001b[38;5;241m.\u001b[39mget_experiment_by_name(experiment_name)\n",
      "File \u001b[1;32mc:\\Users\\aravi\\anaconda3\\envs\\MLOPs\\lib\\site-packages\\mlflow\\tracking\\client.py:134\u001b[0m, in \u001b[0;36mMlflowClient.__init__\u001b[1;34m(self, tracking_uri, registry_uri)\u001b[0m\n\u001b[0;32m    132\u001b[0m final_tracking_uri \u001b[38;5;241m=\u001b[39m utils\u001b[38;5;241m.\u001b[39m_resolve_tracking_uri(tracking_uri)\n\u001b[0;32m    133\u001b[0m \u001b[38;5;28mself\u001b[39m\u001b[38;5;241m.\u001b[39m_registry_uri \u001b[38;5;241m=\u001b[39m registry_utils\u001b[38;5;241m.\u001b[39m_resolve_registry_uri(registry_uri, tracking_uri)\n\u001b[1;32m--> 134\u001b[0m \u001b[38;5;28mself\u001b[39m\u001b[38;5;241m.\u001b[39m_tracking_client \u001b[38;5;241m=\u001b[39m \u001b[43mTrackingServiceClient\u001b[49m\u001b[43m(\u001b[49m\u001b[43mfinal_tracking_uri\u001b[49m\u001b[43m)\u001b[49m\n",
      "File \u001b[1;32mc:\\Users\\aravi\\anaconda3\\envs\\MLOPs\\lib\\site-packages\\mlflow\\tracking\\_tracking_service\\client.py:80\u001b[0m, in \u001b[0;36mTrackingServiceClient.__init__\u001b[1;34m(self, tracking_uri)\u001b[0m\n\u001b[0;32m     75\u001b[0m \u001b[38;5;28mself\u001b[39m\u001b[38;5;241m.\u001b[39mtracking_uri \u001b[38;5;241m=\u001b[39m tracking_uri\n\u001b[0;32m     76\u001b[0m \u001b[38;5;66;03m# NB: Fetch the tracking store (`self.store`) upon client initialization to ensure that\u001b[39;00m\n\u001b[0;32m     77\u001b[0m \u001b[38;5;66;03m# the tracking URI is valid and the store can be properly resolved. We define `store` as a\u001b[39;00m\n\u001b[0;32m     78\u001b[0m \u001b[38;5;66;03m# property method to ensure that the client is serializable, even if the store is not\u001b[39;00m\n\u001b[0;32m     79\u001b[0m \u001b[38;5;66;03m# self.store\u001b[39;00m\n\u001b[1;32m---> 80\u001b[0m \u001b[38;5;28;43mself\u001b[39;49m\u001b[38;5;241;43m.\u001b[39;49m\u001b[43mstore\u001b[49m\n",
      "File \u001b[1;32mc:\\Users\\aravi\\anaconda3\\envs\\MLOPs\\lib\\site-packages\\mlflow\\tracking\\_tracking_service\\client.py:84\u001b[0m, in \u001b[0;36mTrackingServiceClient.store\u001b[1;34m(self)\u001b[0m\n\u001b[0;32m     82\u001b[0m \u001b[38;5;129m@property\u001b[39m\n\u001b[0;32m     83\u001b[0m \u001b[38;5;28;01mdef\u001b[39;00m \u001b[38;5;21mstore\u001b[39m(\u001b[38;5;28mself\u001b[39m):\n\u001b[1;32m---> 84\u001b[0m     \u001b[38;5;28;01mreturn\u001b[39;00m \u001b[43mutils\u001b[49m\u001b[38;5;241;43m.\u001b[39;49m\u001b[43m_get_store\u001b[49m\u001b[43m(\u001b[49m\u001b[38;5;28;43mself\u001b[39;49m\u001b[38;5;241;43m.\u001b[39;49m\u001b[43mtracking_uri\u001b[49m\u001b[43m)\u001b[49m\n",
      "File \u001b[1;32mc:\\Users\\aravi\\anaconda3\\envs\\MLOPs\\lib\\site-packages\\mlflow\\tracking\\_tracking_service\\utils.py:205\u001b[0m, in \u001b[0;36m_get_store\u001b[1;34m(store_uri, artifact_uri)\u001b[0m\n\u001b[0;32m    204\u001b[0m \u001b[38;5;28;01mdef\u001b[39;00m \u001b[38;5;21m_get_store\u001b[39m(store_uri\u001b[38;5;241m=\u001b[39m\u001b[38;5;28;01mNone\u001b[39;00m, artifact_uri\u001b[38;5;241m=\u001b[39m\u001b[38;5;28;01mNone\u001b[39;00m):\n\u001b[1;32m--> 205\u001b[0m     \u001b[38;5;28;01mreturn\u001b[39;00m \u001b[43m_tracking_store_registry\u001b[49m\u001b[38;5;241;43m.\u001b[39;49m\u001b[43mget_store\u001b[49m\u001b[43m(\u001b[49m\u001b[43mstore_uri\u001b[49m\u001b[43m,\u001b[49m\u001b[43m \u001b[49m\u001b[43martifact_uri\u001b[49m\u001b[43m)\u001b[49m\n",
      "File \u001b[1;32mc:\\Users\\aravi\\anaconda3\\envs\\MLOPs\\lib\\site-packages\\mlflow\\tracking\\_tracking_service\\registry.py:42\u001b[0m, in \u001b[0;36mTrackingStoreRegistry.get_store\u001b[1;34m(self, store_uri, artifact_uri)\u001b[0m\n\u001b[0;32m     39\u001b[0m \u001b[38;5;28;01mfrom\u001b[39;00m \u001b[38;5;21;01mmlflow\u001b[39;00m\u001b[38;5;21;01m.\u001b[39;00m\u001b[38;5;21;01mtracking\u001b[39;00m\u001b[38;5;21;01m.\u001b[39;00m\u001b[38;5;21;01m_tracking_service\u001b[39;00m \u001b[38;5;28;01mimport\u001b[39;00m utils\n\u001b[0;32m     41\u001b[0m resolved_store_uri \u001b[38;5;241m=\u001b[39m utils\u001b[38;5;241m.\u001b[39m_resolve_tracking_uri(store_uri)\n\u001b[1;32m---> 42\u001b[0m \u001b[38;5;28;01mreturn\u001b[39;00m \u001b[38;5;28;43mself\u001b[39;49m\u001b[38;5;241;43m.\u001b[39;49m\u001b[43m_get_store_with_resolved_uri\u001b[49m\u001b[43m(\u001b[49m\u001b[43mresolved_store_uri\u001b[49m\u001b[43m,\u001b[49m\u001b[43m \u001b[49m\u001b[43martifact_uri\u001b[49m\u001b[43m)\u001b[49m\n",
      "File \u001b[1;32mc:\\Users\\aravi\\anaconda3\\envs\\MLOPs\\lib\\site-packages\\mlflow\\tracking\\_tracking_service\\registry.py:51\u001b[0m, in \u001b[0;36mTrackingStoreRegistry._get_store_with_resolved_uri\u001b[1;34m(self, resolved_store_uri, artifact_uri)\u001b[0m\n\u001b[0;32m     44\u001b[0m \u001b[38;5;129m@lru_cache\u001b[39m(maxsize\u001b[38;5;241m=\u001b[39m\u001b[38;5;241m100\u001b[39m)\n\u001b[0;32m     45\u001b[0m \u001b[38;5;28;01mdef\u001b[39;00m \u001b[38;5;21m_get_store_with_resolved_uri\u001b[39m(\u001b[38;5;28mself\u001b[39m, resolved_store_uri, artifact_uri\u001b[38;5;241m=\u001b[39m\u001b[38;5;28;01mNone\u001b[39;00m):\n\u001b[0;32m     46\u001b[0m \u001b[38;5;250m    \u001b[39m\u001b[38;5;124;03m\"\"\"\u001b[39;00m\n\u001b[0;32m     47\u001b[0m \u001b[38;5;124;03m    Retrieve the store associated with a resolved (non-None) store URI and an artifact URI.\u001b[39;00m\n\u001b[0;32m     48\u001b[0m \u001b[38;5;124;03m    Caching is done on resolved URIs because the meaning of an unresolved (None) URI may change\u001b[39;00m\n\u001b[0;32m     49\u001b[0m \u001b[38;5;124;03m    depending on external configuration, such as environment variables\u001b[39;00m\n\u001b[0;32m     50\u001b[0m \u001b[38;5;124;03m    \"\"\"\u001b[39;00m\n\u001b[1;32m---> 51\u001b[0m     builder \u001b[38;5;241m=\u001b[39m \u001b[38;5;28;43mself\u001b[39;49m\u001b[38;5;241;43m.\u001b[39;49m\u001b[43mget_store_builder\u001b[49m\u001b[43m(\u001b[49m\u001b[43mresolved_store_uri\u001b[49m\u001b[43m)\u001b[49m\n\u001b[0;32m     52\u001b[0m     \u001b[38;5;28;01mreturn\u001b[39;00m builder(store_uri\u001b[38;5;241m=\u001b[39mresolved_store_uri, artifact_uri\u001b[38;5;241m=\u001b[39martifact_uri)\n",
      "File \u001b[1;32mc:\\Users\\aravi\\anaconda3\\envs\\MLOPs\\lib\\site-packages\\mlflow\\tracking\\registry.py:83\u001b[0m, in \u001b[0;36mStoreRegistry.get_store_builder\u001b[1;34m(self, store_uri)\u001b[0m\n\u001b[0;32m     81\u001b[0m     store_builder \u001b[38;5;241m=\u001b[39m \u001b[38;5;28mself\u001b[39m\u001b[38;5;241m.\u001b[39m_registry[scheme]\n\u001b[0;32m     82\u001b[0m \u001b[38;5;28;01mexcept\u001b[39;00m \u001b[38;5;167;01mKeyError\u001b[39;00m:\n\u001b[1;32m---> 83\u001b[0m     \u001b[38;5;28;01mraise\u001b[39;00m UnsupportedModelRegistryStoreURIException(\n\u001b[0;32m     84\u001b[0m         unsupported_uri\u001b[38;5;241m=\u001b[39mstore_uri, supported_uri_schemes\u001b[38;5;241m=\u001b[39m\u001b[38;5;28mlist\u001b[39m(\u001b[38;5;28mself\u001b[39m\u001b[38;5;241m.\u001b[39m_registry\u001b[38;5;241m.\u001b[39mkeys())\n\u001b[0;32m     85\u001b[0m     )\n\u001b[0;32m     86\u001b[0m \u001b[38;5;28;01mreturn\u001b[39;00m store_builder\n",
      "\u001b[1;31mUnsupportedModelRegistryStoreURIException\u001b[0m:  Model registry functionality is unavailable; got unsupported URI 'X:/DL/Projects/MLOPs/artifacts/mlruns' for model registry data storage. Supported URI schemes are: ['', 'file', 'databricks', 'databricks-uc', 'http', 'https', 'postgresql', 'mysql', 'sqlite', 'mssql']. See https://www.mlflow.org/docs/latest/tracking.html#storage for how to run an MLflow server against one of the supported backend storage locations."
     ]
    }
   ],
   "source": [
    "from ultralytics import YOLO, settings\n",
    "import mlflow\n",
    "import os \n",
    "\n",
    "if __name__ == '__main__':\n",
    "    os.makedirs(\"X:/DL/Projects/MLOPs/artifacts/mlruns\",exist_ok=True)\n",
    "    os.environ[\"MLFLOW_TRACKING_URI\"] = \"X:/DL/Projects/MLOPs/artifacts/mlruns\" # Configure the mlruns path for storing data.\n",
    "    run_name = \"train1\"\n",
    "    experiment_name = \"yolov8-experiment\"\n",
    "    \n",
    "    print(\"MLFLOW_TRACKING_URI: \", os.environ.get(\"MLFLOW_TRACKING_URI\"))\n",
    "\n",
    "\n",
    "    model = YOLO(r'yolov8n.pt') # Load YOLOv8 weights.\n",
    "    \n",
    "    # Make sure MLflow is enabled in settings\n",
    "    settings.update({'mlflow': True})\n",
    "    settings.reset()\n",
    "    mlflow.pytorch.autolog(log_models=True)\n",
    "    mlflow.set_experiment(experiment_name) # Set the experiment name.\n",
    "\n",
    "    with mlflow.start_run(run_name=run_name) as run: # The run_name is the name of the execution task.\n",
    "\n",
    "        run_id = run.info.run_id # The run_id is the directory name that will be stored within the MLFLOW_TRACKING_URI path.\n",
    "        print(run_id)\n",
    "\n",
    "        # Set YOLOv8 training model parameters.\n",
    "        model.train(\n",
    "            data= \"X:\\\\DL\\\\Projects\\\\MLOPs\\\\artifacts\\\\data_ingestion\\\\data\\\\data.yaml\",\n",
    "            epochs=1,\n",
    "            batch=80,\n",
    "            imgsz=640,\n",
    "            workers=0\n",
    "        )\n",
    "\n",
    "    mlflow.end_run()"
   ]
  },
  {
   "cell_type": "code",
   "execution_count": null,
   "metadata": {},
   "outputs": [],
   "source": []
  }
 ],
 "metadata": {
  "kernelspec": {
   "display_name": "MLOPs",
   "language": "python",
   "name": "python3"
  },
  "language_info": {
   "codemirror_mode": {
    "name": "ipython",
    "version": 3
   },
   "file_extension": ".py",
   "mimetype": "text/x-python",
   "name": "python",
   "nbconvert_exporter": "python",
   "pygments_lexer": "ipython3",
   "version": "3.9.19"
  }
 },
 "nbformat": 4,
 "nbformat_minor": 2
}
