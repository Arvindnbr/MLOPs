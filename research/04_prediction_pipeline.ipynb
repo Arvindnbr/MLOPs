{
 "cells": [
  {
   "cell_type": "code",
   "execution_count": 1,
   "metadata": {},
   "outputs": [],
   "source": [
    "import os,sys\n",
    "os.chdir(\"x:\\\\DL\\\\Projects\\\\MLOPs\")"
   ]
  },
  {
   "cell_type": "code",
   "execution_count": 2,
   "metadata": {},
   "outputs": [],
   "source": [
    "\n",
    "from scripts.MLOPs.utils.common import decodeImage,encodeImage\n",
    "from scripts.MLOPs.pipeline.data_pipeline import *"
   ]
  },
  {
   "cell_type": "code",
   "execution_count": 3,
   "metadata": {},
   "outputs": [],
   "source": [
    "from flask import Flask, request, jsonify, render_template, Response\n",
    "from flask_cors import CORS, cross_origin\n",
    "from scripts.MLOPs.constants import APP_HOST, APP_PORT"
   ]
  },
  {
   "cell_type": "code",
   "execution_count": null,
   "metadata": {},
   "outputs": [],
   "source": [
    "from ultralytics import YOLO\n"
   ]
  },
  {
   "cell_type": "code",
   "execution_count": null,
   "metadata": {},
   "outputs": [],
   "source": [
    "app = Flask(__name__)\n",
    "CORS(app)\n",
    "\n",
    "\n",
    "class ClientAPP:\n",
    "    def __init__(self):\n",
    "        self.filename = \"inputimage.jpg\"\n",
    "\n",
    "@app.route(\"/train\")\n",
    "def trainRoute():\n",
    "    obj = ModelTrainerPipeline()\n",
    "    obj.main()\n",
    "    return \"Training sucessfull !!!\"\n",
    "\n",
    "@app.route(\"/\")\n",
    "def home():\n",
    "    return render_template(\"index.html\")\n",
    "\n",
    "@app.route(\"/predict\", methods = ['POST','GET'])\n",
    "@cross_origin()\n",
    "def predictRoute():\n",
    "    try:\n",
    "        image = request.json['image']\n",
    "        decodeImage(image, clAPP.filename)\n",
    "\n",
    "        os.system(\"cd\")"
   ]
  }
 ],
 "metadata": {
  "kernelspec": {
   "display_name": "MLOPs",
   "language": "python",
   "name": "python3"
  },
  "language_info": {
   "codemirror_mode": {
    "name": "ipython",
    "version": 3
   },
   "file_extension": ".py",
   "mimetype": "text/x-python",
   "name": "python",
   "nbconvert_exporter": "python",
   "pygments_lexer": "ipython3",
   "version": "3.9.19"
  }
 },
 "nbformat": 4,
 "nbformat_minor": 2
}
