{
 "cells": [
  {
   "cell_type": "code",
   "execution_count": 1,
   "metadata": {},
   "outputs": [
    {
     "data": {
      "text/plain": [
       "'x:\\\\DL\\\\Projects\\\\MLOPs'"
      ]
     },
     "execution_count": 1,
     "metadata": {},
     "output_type": "execute_result"
    }
   ],
   "source": [
    "import os\n",
    "os.chdir(\"x:\\DL\\Projects\\MLOPs\")\n",
    "%pwd"
   ]
  },
  {
   "cell_type": "code",
   "execution_count": 2,
   "metadata": {},
   "outputs": [],
   "source": [
    "from dataclasses import dataclass\n",
    "from pathlib import Path\n",
    "\n",
    "\n",
    "@dataclass(frozen=True)\n",
    "class DataIngestionConfig:\n",
    "    root_dir: Path\n",
    "    source_URL: str\n",
    "    local_data: Path\n",
    "    unzip_dir: Path\n",
    "\n",
    "@dataclass(frozen=True)\n",
    "class DataValidationConfig:\n",
    "    root_dir: Path\n",
    "    status_file_dir: Path\n",
    "    req_files: list"
   ]
  },
  {
   "cell_type": "code",
   "execution_count": 3,
   "metadata": {},
   "outputs": [],
   "source": [
    "from scripts.MLOPs.constants import *\n",
    "from scripts.MLOPs.utils.common import read_yaml, create_directories\n",
    "from scripts.MLOPs.entity.config_entity import *"
   ]
  },
  {
   "cell_type": "code",
   "execution_count": 4,
   "metadata": {},
   "outputs": [],
   "source": [
    "\n",
    "\n",
    "class ConfigurationManager:\n",
    "    def __init__(self,config_filepath = CONFIG_FILE_PATH, params_filepath = PARAMS_FILE_PATH):\n",
    "        self.config = read_yaml(config_filepath)\n",
    "        self.params = read_yaml(params_filepath)\n",
    "        create_directories([self.config.artifacts_root])\n",
    "\n",
    "    def get_dataingestion_config(self)-> DataIngestionConfig:\n",
    "        config = self.config.data_ingestion\n",
    "        create_directories([config.root_dir])\n",
    "        data_ingestion_config = DataIngestionConfig(\n",
    "            root_dir = config.root_dir,\n",
    "            source_URL= config.source_URL,\n",
    "            local_data= config.local_data,\n",
    "            unzip_dir= config.unzip_dir\n",
    "            )\n",
    "        return data_ingestion_config\n",
    "    \n",
    "    def get_datavalidation_config(self)->DataValidationConfig:\n",
    "        config = self.config.data_validation\n",
    "        create_directories([config.data_val_dir])\n",
    "        data_validation_config = DataValidationConfig(\n",
    "            root_dir=config.data_val_dir,\n",
    "            status_file_dir= config.data_val_status,\n",
    "            req_files= config.data_val_req\n",
    "        )\n",
    "        return data_validation_config"
   ]
  },
  {
   "cell_type": "code",
   "execution_count": 5,
   "metadata": {},
   "outputs": [],
   "source": [
    "import os,sys\n",
    "from scripts.MLOPs import logger\n",
    "from scripts.MLOPs.exception import AppException\n",
    "from scripts.MLOPs.utils.common import update_train_yaml\n",
    "\n",
    "\n",
    "class DataValidation:\n",
    "    def __init__(self, config: DataValidationConfig, param: DataIngestionConfig):\n",
    "        self.config = config\n",
    "        self.param = param\n",
    "\n",
    "    def validate_files(self)-> bool:\n",
    "        try:\n",
    "            validation_status = None\n",
    "            all_files = os.listdir(self.param.unzip_dir)\n",
    "            os.makedirs(self.config.root_dir, exist_ok=True)\n",
    "\n",
    "            for file in all_files:\n",
    "                if file not in self.config.req_files:\n",
    "                    validation_status = False\n",
    "                    with open(self.config.status_file_dir,'w') as f:\n",
    "                        f.write(f\"validation status: {validation_status}\")\n",
    "                else:\n",
    "                    validation_status = True\n",
    "                    with open(self.config.status_file_dir, 'w') as f:\n",
    "                        f.write(f\"validation status: {validation_status}\")\n",
    "            print(all_files)\n",
    "            return validation_status\n",
    "        except Exception as e:\n",
    "            raise AppException(e,sys)\n",
    "        \n",
    "    def update_yaml(self):\n",
    "        yamlpath = os.path.join(self.param.unzip_dir,\"data.yaml\")\n",
    "        pathdir = self.param.unzip_dir\n",
    "        update_train_yaml(yamlpath,pathdir)\n",
    "        logger.info(f\"following changes has been made \\n train and valid path inside data.yaml has been modified \\n path : {pathdir} has been added to data.yaml file \")\n",
    "       \n",
    "        \n"
   ]
  },
  {
   "cell_type": "code",
   "execution_count": 6,
   "metadata": {},
   "outputs": [],
   "source": [
    "import sys\n",
    "from scripts.MLOPs import logger\n",
    "from scripts.MLOPs.config.configuration import ConfigurationManager\n",
    "from scripts.MLOPs.exception import AppException\n",
    "from scripts.MLOPs.components.data_ingestion import DataIngestion\n"
   ]
  },
  {
   "cell_type": "code",
   "execution_count": 7,
   "metadata": {},
   "outputs": [
    {
     "name": "stdout",
     "output_type": "stream",
     "text": [
      "[2024-07-29 00:59:40,326: INFO: common: yaml file: config\\config.yaml loaded sucessfully]\n",
      "[2024-07-29 00:59:40,326: INFO: common: yaml file: params.yaml loaded sucessfully]\n",
      "[2024-07-29 00:59:40,329: INFO: common: created directory at artifacts]\n",
      "[2024-07-29 00:59:40,329: INFO: common: created directory at artifacts/data_ingestion]\n",
      "[2024-07-29 00:59:40,329: INFO: common: created directory at artifacts/data_validation]\n",
      "['data.yaml', 'README.dataset.txt', 'README.roboflow.txt', 'test', 'train', 'valid']\n",
      "[2024-07-29 00:59:40,333: INFO: 462659045: following changes has been made \n",
      " train and valid path inside data.yaml has been modified \n",
      " path : artifacts/data_ingestion/data has been added to data.yaml file ]\n"
     ]
    }
   ],
   "source": [
    "STAGE2 = \"Data Validation Stage\"\n",
    "\n",
    "try:\n",
    "    config = ConfigurationManager()\n",
    "    dataval_param = config.get_dataingestion_config()\n",
    "    dataval_config = config.get_datavalidation_config()\n",
    "    data_validation = DataValidation(config=dataval_config, param=dataval_param)\n",
    "    data_validation.validate_files()\n",
    "    data_validation.update_yaml()\n",
    "except Exception as e:\n",
    "    raise AppException(e, sys)"
   ]
  },
  {
   "cell_type": "code",
   "execution_count": 52,
   "metadata": {},
   "outputs": [
    {
     "ename": "NameError",
     "evalue": "name 'self' is not defined",
     "output_type": "error",
     "traceback": [
      "\u001b[1;31m---------------------------------------------------------------------------\u001b[0m",
      "\u001b[1;31mNameError\u001b[0m                                 Traceback (most recent call last)",
      "Cell \u001b[1;32mIn[52], line 1\u001b[0m\n\u001b[1;32m----> 1\u001b[0m \u001b[38;5;28mprint\u001b[39m(all_files \u001b[38;5;241m=\u001b[39m os\u001b[38;5;241m.\u001b[39mlistdir(\u001b[38;5;28;43mself\u001b[39;49m\u001b[38;5;241m.\u001b[39mparam\u001b[38;5;241m.\u001b[39munzip_dir))\n",
      "\u001b[1;31mNameError\u001b[0m: name 'self' is not defined"
     ]
    }
   ],
   "source": []
  }
 ],
 "metadata": {
  "kernelspec": {
   "display_name": "MLOPs",
   "language": "python",
   "name": "python3"
  },
  "language_info": {
   "codemirror_mode": {
    "name": "ipython",
    "version": 3
   },
   "file_extension": ".py",
   "mimetype": "text/x-python",
   "name": "python",
   "nbconvert_exporter": "python",
   "pygments_lexer": "ipython3",
   "version": "3.9.19"
  }
 },
 "nbformat": 4,
 "nbformat_minor": 2
}
