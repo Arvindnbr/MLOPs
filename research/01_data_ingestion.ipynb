{
 "cells": [
  {
   "cell_type": "code",
   "execution_count": 5,
   "metadata": {},
   "outputs": [],
   "source": [
    "import os"
   ]
  },
  {
   "cell_type": "code",
   "execution_count": 6,
   "metadata": {},
   "outputs": [
    {
     "data": {
      "text/plain": [
       "'x:\\\\DL\\\\Projects\\\\mlops'"
      ]
     },
     "execution_count": 6,
     "metadata": {},
     "output_type": "execute_result"
    }
   ],
   "source": [
    "os.chdir(\"x:\\DL\\Projects\\mlops\")\n",
    "%pwd"
   ]
  },
  {
   "cell_type": "code",
   "execution_count": 7,
   "metadata": {},
   "outputs": [],
   "source": [
    "from dataclasses import dataclass\n",
    "from pathlib import Path\n",
    "\n",
    "\n",
    "@dataclass(frozen=True)\n",
    "class DataIngestionConfig:\n",
    "    root_dir: Path\n",
    "    source_URL: str\n",
    "    local_data: Path\n",
    "    unzip_dir: Path\n"
   ]
  },
  {
   "cell_type": "code",
   "execution_count": 8,
   "metadata": {},
   "outputs": [],
   "source": [
    "from scripts.MLOPs.constants import *\n",
    "from scripts.MLOPs.utils.common import read_yaml, create_directories"
   ]
  },
  {
   "cell_type": "code",
   "execution_count": 9,
   "metadata": {},
   "outputs": [],
   "source": [
    "class ConfigurationManager:\n",
    "    def __init__(self,config_filepath = CONFIG_FILE_PATH, params_filepath = PARAMS_FILE_PATH):\n",
    "        self.config = read_yaml(config_filepath)\n",
    "        self.params = read_yaml(params_filepath)\n",
    "        create_directories([self.config.artifacts_root])\n",
    "\n",
    "    def get_dataingestion_config(self)-> DataIngestionConfig:\n",
    "        config = self.config.data_ingestion\n",
    "        create_directories([config.root_dir])\n",
    "        data_ingestion_config = DataIngestionConfig(\n",
    "            root_dir = config.root_dir,\n",
    "            source_URL= config.source_URL,\n",
    "            local_data= config.local_data,\n",
    "            unzip_dir= config.unzip_dir\n",
    "            )\n",
    "        return data_ingestion_config\n",
    "    "
   ]
  },
  {
   "cell_type": "code",
   "execution_count": 10,
   "metadata": {},
   "outputs": [],
   "source": [
    "import sys,zipfile,os\n",
    "from urllib import request\n",
    "from scripts.MLOPs.exception import AppException\n",
    "from scripts.MLOPs import logger\n",
    "\n",
    "class DataIngestion:\n",
    "    def __init__(self, config: DataIngestionConfig):\n",
    "        self.config = config\n",
    "    \n",
    "\n",
    "    def download_data(self)->str:\n",
    "        try:\n",
    "            dataset_url = self.config.source_URL\n",
    "            os.makedirs(self.config.root_dir, exist_ok= True)\n",
    "            logger.info(f\"Downloading data from {dataset_url} into file {self.config.local_data}\")\n",
    "            if not os.path.exists(self.config.local_data):\n",
    "                request.urlretrieve(\n",
    "                    url = dataset_url, filename=self.config.local_data\n",
    "                )\n",
    "                logger.info(f\"{self.config.local_data} downloaded!!\")\n",
    "            else:\n",
    "                logger.info(f\"File already exists on {self.config.local_data}\")\n",
    "            \n",
    "        \n",
    "        except Exception as e:\n",
    "            raise AppException(e, sys)\n",
    "    \n",
    "    def extract_zipfile(self):\n",
    "        unzip_path = self.config.unzip_dir\n",
    "        os.makedirs(unzip_path,exist_ok=True)\n",
    "        with zipfile.ZipFile(self.config.local_data, 'r') as z:\n",
    "            z.extractall(unzip_path)"
   ]
  },
  {
   "cell_type": "code",
   "execution_count": 11,
   "metadata": {},
   "outputs": [
    {
     "name": "stdout",
     "output_type": "stream",
     "text": [
      "[2024-07-28 13:36:26,362: INFO: common: yaml file: config\\config.yaml loaded sucessfully]\n",
      "[2024-07-28 13:36:26,367: INFO: common: yaml file: params.yaml loaded sucessfully]\n",
      "[2024-07-28 13:36:26,369: INFO: common: created directory at artifacts]\n",
      "[2024-07-28 13:36:26,369: INFO: common: created directory at artifacts/data_ingestion]\n",
      "[2024-07-28 13:36:26,369: INFO: 593108212: Downloading data from https://universe.roboflow.com/ds/i02h52wl6q?key=ZM0MEFLZ5R into file artifacts/data_ingestion/data.zip]\n",
      "[2024-07-28 13:41:35,259: INFO: 593108212: artifacts/data_ingestion/data.zip downloaded!!]\n"
     ]
    }
   ],
   "source": [
    "try:\n",
    "    config = ConfigurationManager()\n",
    "    dataingestion_config = config.get_dataingestion_config()\n",
    "    dataingestion = DataIngestion(config=dataingestion_config)\n",
    "    dataingestion.download_data()\n",
    "    dataingestion.extract_zipfile()\n",
    "except Exception as eL:\n",
    "    raise AppException(eL, sys)"
   ]
  },
  {
   "cell_type": "code",
   "execution_count": null,
   "metadata": {},
   "outputs": [],
   "source": []
  }
 ],
 "metadata": {
  "kernelspec": {
   "display_name": "MLOPs",
   "language": "python",
   "name": "python3"
  },
  "language_info": {
   "codemirror_mode": {
    "name": "ipython",
    "version": 3
   },
   "file_extension": ".py",
   "mimetype": "text/x-python",
   "name": "python",
   "nbconvert_exporter": "python",
   "pygments_lexer": "ipython3",
   "version": "3.9.19"
  }
 },
 "nbformat": 4,
 "nbformat_minor": 2
}
