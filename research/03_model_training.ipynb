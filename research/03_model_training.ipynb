{
 "cells": [
  {
   "cell_type": "code",
   "execution_count": 17,
   "metadata": {},
   "outputs": [
    {
     "data": {
      "text/plain": [
       "'x:\\\\DL\\\\Projects\\\\MLOPs'"
      ]
     },
     "execution_count": 17,
     "metadata": {},
     "output_type": "execute_result"
    }
   ],
   "source": [
    "import os\n",
    "os.chdir(\"x:\\DL\\Projects\\MLOPs\")\n",
    "%pwd"
   ]
  },
  {
   "cell_type": "code",
   "execution_count": 18,
   "metadata": {},
   "outputs": [
    {
     "name": "stdout",
     "output_type": "stream",
     "text": [
      "<class 'float'>\n"
     ]
    }
   ],
   "source": [
    "print(type(0.01))"
   ]
  },
  {
   "cell_type": "code",
   "execution_count": 19,
   "metadata": {},
   "outputs": [],
   "source": [
    "from dataclasses import dataclass\n",
    "from pathlib import Path\n",
    "\n",
    "@dataclass(frozen=True)\n",
    "class DataIngestionConfig:\n",
    "    root_dir: Path\n",
    "    source_URL: str\n",
    "    local_data: Path\n",
    "    unzip_dir: Path\n",
    "\n",
    "@dataclass(frozen=True)\n",
    "class DataValidationConfig:\n",
    "    root_dir: Path\n",
    "    status_file_dir: Path\n",
    "    req_files: list\n",
    "    \n",
    "@dataclass(frozen=True)\n",
    "class TrainLogConfig:\n",
    "    model: str\n",
    "    save_path: Path\n",
    "    mlflow_uri: str\n",
    "    experiment_name: str\n",
    "    model_name: str\n",
    "\n",
    "@dataclass(frozen=True)\n",
    "class Params:\n",
    "    optimizer: str\n",
    "    lr0: float\n",
    "    save_period: int\n",
    "    batch: int\n",
    "    epochs: int\n",
    "    resume: bool\n",
    "    seed: int\n",
    "    imgsz: int "
   ]
  },
  {
   "cell_type": "code",
   "execution_count": 27,
   "metadata": {},
   "outputs": [],
   "source": [
    "from scripts.MLOPs.constants import *\n",
    "from scripts.MLOPs.utils.common import read_yaml, create_directories\n",
    "#from scripts.MLOPs.entity.config_entity import *\n",
    "\n",
    "class ConfigurationManager:\n",
    "    def __init__(self,config_filepath = CONFIG_FILE_PATH, params_filepath = PARAMS_FILE_PATH):\n",
    "        self.config = read_yaml(config_filepath)\n",
    "        self.params = read_yaml(params_filepath)\n",
    "        create_directories([self.config.artifacts_root])\n",
    "\n",
    "    def get_dataingestion_config(self)-> DataIngestionConfig:\n",
    "        config = self.config.data_ingestion\n",
    "        create_directories([config.root_dir])\n",
    "        data_ingestion_config = DataIngestionConfig(\n",
    "            root_dir = config.root_dir,\n",
    "            source_URL= config.source_URL,\n",
    "            local_data= config.local_data,\n",
    "            unzip_dir= config.unzip_dir\n",
    "            )\n",
    "        return data_ingestion_config\n",
    "    \n",
    "    def get_datavalidation_config(self)->DataValidationConfig:\n",
    "        config = self.config.data_validation\n",
    "        create_directories([config.data_val_dir])\n",
    "        data_validation_config = DataValidationConfig(\n",
    "            current_dset= config.current_dset,\n",
    "            root_dir=config.data_val_dir,\n",
    "            status_file_dir= config.data_val_status,\n",
    "            req_files= config.data_val_req\n",
    "            )\n",
    "        return data_validation_config\n",
    "    \n",
    "    def get_train_log_config(self)-> TrainLogConfig:\n",
    "        config = self.config.train_log_config\n",
    "        trainlogconfig = TrainLogConfig(\n",
    "            model= config.model,\n",
    "            save_path= config.save_path,\n",
    "            mlflow_uri= config.mlflow_uri,\n",
    "            experiment_name= config.experiment_name,\n",
    "            model_name= config.model_name\n",
    "        )\n",
    "        return trainlogconfig\n",
    "    \n",
    "    def get_params(self)-> Params:\n",
    "        param = self.config.params\n",
    "        params = Params(\n",
    "            optimizer = param.optimizer,\n",
    "            lr0 = param.lr0,\n",
    "            save_period = param.save_period,\n",
    "            batch = param.batch,\n",
    "            epochs = param.epochs,\n",
    "            resume = param.resume,\n",
    "            seed = param.seed,\n",
    "            imgsz = param.imgsz\n",
    "        )\n",
    "        return params\n",
    "    \n",
    "    "
   ]
  },
  {
   "cell_type": "code",
   "execution_count": 28,
   "metadata": {},
   "outputs": [],
   "source": [
    "from ultralytics import YOLO, settings\n",
    "import os,sys\n",
    "import logging\n",
    "import torch\n",
    "from urllib.parse import urlparse\n",
    "import mlflow\n",
    "from scripts.MLOPs.exception import AppException\n",
    "\n",
    "class ModelTrainer:\n",
    "    def __init__(self, config: TrainLogConfig, val: DataValidationConfig, param: Params):\n",
    "        self.config = config\n",
    "        self.val = val\n",
    "        self.param = param\n",
    "\n",
    "    def validation_status(self):\n",
    "        with open(self.val.status_file_dir, 'r') as file:\n",
    "            status = file.read().strip()\n",
    "        key, value = status.split(':')\n",
    "        key = key.strip()\n",
    "        value = value.strip().lower()\n",
    "\n",
    "        if key != \"validation_status\":\n",
    "            raise ValueError(\"unexpected key in status file\")\n",
    "        \n",
    "        if value == 'true':\n",
    "            return True\n",
    "        elif value == 'false':\n",
    "            return False\n",
    "        else:\n",
    "            raise ValueError(\"validation status is invalid\")\n",
    "\n",
    "    def train_model(self):\n",
    "\n",
    "        dataset_dir = self.val.current_dset\n",
    "        data_path = os.path.join( dataset_dir, \"data.yaml\")\n",
    "        logging.info(f\"Dataset location: {data_path}\")\n",
    "        if torch.cuda.is_available():\n",
    "            device = torch.cuda.current_device()\n",
    "            logging.info(f\"Device is running on: {torch.cuda.get_device_name(device)}\")\n",
    "        else:\n",
    "            logging.info(f\"CUDA is not available\")\n",
    "            device = \"cpu\"\n",
    "            logging.info(f\"Device to run on: {device}\")\n",
    "            logging.info(data_path)\n",
    "\n",
    "        model = self.config.model\n",
    "\n",
    "        os.makedirs(self.config.save_path, exist_ok=True)\n",
    "        save_path = os.path.join(self.config.save_path,\"Trainedv8.pt\")\n",
    "        # Load a pretrained YOLOv8n model\n",
    "        model = YOLO(model)\n",
    "        # Train the model\n",
    "        model.train(\n",
    "            data=data_path,\n",
    "            optimizer = self.param.optimizer,\n",
    "            lr0 = self.param.lr0,\n",
    "            save_period = self.param.save_period,\n",
    "            batch = self.param.batch,\n",
    "            epochs = self.param.epochs,\n",
    "            resume = self.param.resume,\n",
    "            seed = self.param.seed,\n",
    "            imgsz = self.param.imgsz\n",
    "            )\n",
    "        model.save(save_path)\n",
    "        return model\n",
    "    \n",
    "    def log_into_mlflow(self):\n",
    "\n",
    "        settings.update({'mlflow': True})\n",
    "        run_name = self.config.model_name\n",
    "        experiment_name = self.config.experiment_name\n",
    "        os.environ[\"MLFLOW_TRACKING_URI\"] = self.config.mlflow_uri\n",
    "        os.environ[\"MLFLOW_RUN\"] = run_name\n",
    "        \n",
    "        print(\"MLFLOW_TRACKING_URI: \", os.environ.get(\"MLFLOW_TRACKING_URI\"))\n",
    "        \n",
    "        # settings.update({'datasets_dir': \"X:\\DL\\Projects\\MLOPs\"})\n",
    "        mlflow.autolog(log_models=True)\n",
    "        mlflow.set_experiment(experiment_name=experiment_name)\n",
    "        \n",
    "        with mlflow.start_run(run_name=run_name) as run: \n",
    "            #run_name is the name of the task.\n",
    "            run_id = run.info.run_id \n",
    "            #run_id is the directory name that will be stored within the MLFLOW_TRACKING_URI path.\n",
    "            print(run_id)\n",
    "            self.train_model()\n",
    "            save_path = os.path.join(self.config.save_path,\"Trainedv8.pt\")\n",
    "            model = YOLO(save_path)\n",
    "            model.export(format=\"onnx\", dynamic= True)\n",
    "            mlflow.onnx.log_model(model, \"YOLOv8n\")             ##logged model\n",
    "        mlflow.end_run()\n",
    "            \n",
    "    \n",
    "    \n",
    "    # def run_pipeline(self):\n",
    "    #     try:\n",
    "    #         with open()\n",
    "    #         self.train_model()\n",
    "    #     except Exception as e:\n",
    "    #         raise AppException(e, sys)\n",
    "\n",
    "    def run_pipeline(self):\n",
    "        if (self.validation_status() == True):\n",
    "            try:\n",
    "                self.log_into_mlflow()\n",
    "            except Exception as e:\n",
    "                raise AppException(e, sys)\n",
    "        else:\n",
    "            logging.INFO(f\"Model training not run due to invalid dataset. \\n please ingest a valid dataset\")\n"
   ]
  },
  {
   "cell_type": "code",
   "execution_count": 29,
   "metadata": {},
   "outputs": [
    {
     "name": "stdout",
     "output_type": "stream",
     "text": [
      "[2024-08-01 21:40:04,393: INFO: common: yaml file: config\\config.yaml loaded sucessfully]\n",
      "[2024-08-01 21:40:04,396: INFO: common: yaml file: params.yaml loaded sucessfully]\n",
      "[2024-08-01 21:40:04,396: INFO: common: created directory at artifacts]\n",
      "[2024-08-01 21:40:04,397: INFO: common: created directory at artifacts/data_validation]\n"
     ]
    },
    {
     "ename": "AppException",
     "evalue": "Error occured in python script name [C:\\Users\\aravi\\AppData\\Local\\Temp\\ipykernel_11756\\2631944331.py] line number [4] error message [__init__() got an unexpected keyword argument 'current_dset']",
     "output_type": "error",
     "traceback": [
      "\u001b[1;31m---------------------------------------------------------------------------\u001b[0m",
      "\u001b[1;31mTypeError\u001b[0m                                 Traceback (most recent call last)",
      "Cell \u001b[1;32mIn[29], line 4\u001b[0m\n\u001b[0;32m      3\u001b[0m model_config \u001b[38;5;241m=\u001b[39m obj2\u001b[38;5;241m.\u001b[39mget_train_log_config()\n\u001b[1;32m----> 4\u001b[0m valc \u001b[38;5;241m=\u001b[39m \u001b[43mobj2\u001b[49m\u001b[38;5;241;43m.\u001b[39;49m\u001b[43mget_datavalidation_config\u001b[49m\u001b[43m(\u001b[49m\u001b[43m)\u001b[49m\n\u001b[0;32m      5\u001b[0m params \u001b[38;5;241m=\u001b[39m obj2\u001b[38;5;241m.\u001b[39mget_params()\n",
      "Cell \u001b[1;32mIn[27], line 25\u001b[0m, in \u001b[0;36mConfigurationManager.get_datavalidation_config\u001b[1;34m(self)\u001b[0m\n\u001b[0;32m     24\u001b[0m create_directories([config\u001b[38;5;241m.\u001b[39mdata_val_dir])\n\u001b[1;32m---> 25\u001b[0m data_validation_config \u001b[38;5;241m=\u001b[39m \u001b[43mDataValidationConfig\u001b[49m\u001b[43m(\u001b[49m\n\u001b[0;32m     26\u001b[0m \u001b[43m    \u001b[49m\u001b[43mcurrent_dset\u001b[49m\u001b[38;5;241;43m=\u001b[39;49m\u001b[43m \u001b[49m\u001b[43mconfig\u001b[49m\u001b[38;5;241;43m.\u001b[39;49m\u001b[43mcurrent_dset\u001b[49m\u001b[43m,\u001b[49m\n\u001b[0;32m     27\u001b[0m \u001b[43m    \u001b[49m\u001b[43mroot_dir\u001b[49m\u001b[38;5;241;43m=\u001b[39;49m\u001b[43mconfig\u001b[49m\u001b[38;5;241;43m.\u001b[39;49m\u001b[43mdata_val_dir\u001b[49m\u001b[43m,\u001b[49m\n\u001b[0;32m     28\u001b[0m \u001b[43m    \u001b[49m\u001b[43mstatus_file_dir\u001b[49m\u001b[38;5;241;43m=\u001b[39;49m\u001b[43m \u001b[49m\u001b[43mconfig\u001b[49m\u001b[38;5;241;43m.\u001b[39;49m\u001b[43mdata_val_status\u001b[49m\u001b[43m,\u001b[49m\n\u001b[0;32m     29\u001b[0m \u001b[43m    \u001b[49m\u001b[43mreq_files\u001b[49m\u001b[38;5;241;43m=\u001b[39;49m\u001b[43m \u001b[49m\u001b[43mconfig\u001b[49m\u001b[38;5;241;43m.\u001b[39;49m\u001b[43mdata_val_req\u001b[49m\n\u001b[0;32m     30\u001b[0m \u001b[43m    \u001b[49m\u001b[43m)\u001b[49m\n\u001b[0;32m     31\u001b[0m \u001b[38;5;28;01mreturn\u001b[39;00m data_validation_config\n",
      "\u001b[1;31mTypeError\u001b[0m: __init__() got an unexpected keyword argument 'current_dset'",
      "\nDuring handling of the above exception, another exception occurred:\n",
      "\u001b[1;31mAppException\u001b[0m                              Traceback (most recent call last)",
      "Cell \u001b[1;32mIn[29], line 9\u001b[0m\n\u001b[0;32m      7\u001b[0m     x\u001b[38;5;241m.\u001b[39mrun_pipeline()\n\u001b[0;32m      8\u001b[0m \u001b[38;5;28;01mexcept\u001b[39;00m \u001b[38;5;167;01mException\u001b[39;00m \u001b[38;5;28;01mas\u001b[39;00m e:\n\u001b[1;32m----> 9\u001b[0m     \u001b[38;5;28;01mraise\u001b[39;00m AppException(e, sys)\n",
      "\u001b[1;31mAppException\u001b[0m: Error occured in python script name [C:\\Users\\aravi\\AppData\\Local\\Temp\\ipykernel_11756\\2631944331.py] line number [4] error message [__init__() got an unexpected keyword argument 'current_dset']"
     ]
    }
   ],
   "source": [
    "try:\n",
    "    obj2 = ConfigurationManager()\n",
    "    model_config = obj2.get_train_log_config()\n",
    "    valc = obj2.get_datavalidation_config()\n",
    "    params = obj2.get_params()\n",
    "    x = ModelTrainer(config=model_config, val=valc, param=params)\n",
    "    x.run_pipeline()\n",
    "except Exception as e:\n",
    "    raise AppException(e, sys)"
   ]
  },
  {
   "cell_type": "code",
   "execution_count": 10,
   "metadata": {},
   "outputs": [
    {
     "ename": "AttributeError",
     "evalue": "'ModelTrainer' object has no attribute 'log_into_mlflow'",
     "output_type": "error",
     "traceback": [
      "\u001b[1;31m---------------------------------------------------------------------------\u001b[0m",
      "\u001b[1;31mAttributeError\u001b[0m                            Traceback (most recent call last)",
      "Cell \u001b[1;32mIn[10], line 1\u001b[0m\n\u001b[1;32m----> 1\u001b[0m \u001b[43mx\u001b[49m\u001b[38;5;241;43m.\u001b[39;49m\u001b[43mlog_into_mlflow\u001b[49m()\n",
      "\u001b[1;31mAttributeError\u001b[0m: 'ModelTrainer' object has no attribute 'log_into_mlflow'"
     ]
    }
   ],
   "source": []
  },
  {
   "cell_type": "code",
   "execution_count": 10,
   "metadata": {},
   "outputs": [
    {
     "name": "stdout",
     "output_type": "stream",
     "text": [
      "[2024-07-29 00:59:56,601: INFO: common: yaml file: config\\config.yaml loaded sucessfully]\n",
      "[2024-07-29 00:59:56,604: INFO: common: yaml file: params.yaml loaded sucessfully]\n",
      "[2024-07-29 00:59:56,604: INFO: common: created directory at artifacts]\n",
      "[2024-07-29 00:59:56,605: INFO: common: created directory at artifacts/data_ingestion]\n",
      "[2024-07-29 00:59:56,606: INFO: 1550852978: Dataset location: artifacts/data_ingestion/data\\data.yaml]\n",
      "[2024-07-29 00:59:56,607: INFO: 1550852978: CUDA is not available]\n",
      "[2024-07-29 00:59:56,607: INFO: 1550852978: Device to run on: cpu]\n",
      "[2024-07-29 00:59:56,607: INFO: 1550852978: artifacts/data_ingestion/data\\data.yaml]\n",
      "New https://pypi.org/project/ultralytics/8.2.68 available  Update with 'pip install -U ultralytics'\n",
      "Ultralytics YOLOv8.2.67  Python-3.9.19 torch-2.4.0+cpu CPU (AMD Ryzen 7 5825U with Radeon Graphics)\n",
      "\u001b[34m\u001b[1mengine\\trainer: \u001b[0mtask=detect, mode=train, model=yolov8n.pt, data=artifacts/data_ingestion/data\\data.yaml, epochs=1, time=None, patience=100, batch=5, imgsz=640, save=True, save_period=-1, cache=False, device=cpu, workers=8, project=None, name=train10, exist_ok=False, pretrained=True, optimizer=auto, verbose=True, seed=0, deterministic=True, single_cls=False, rect=False, cos_lr=False, close_mosaic=10, resume=False, amp=True, fraction=1.0, profile=False, freeze=None, multi_scale=False, overlap_mask=True, mask_ratio=4, dropout=0.0, val=True, split=val, save_json=False, save_hybrid=False, conf=None, iou=0.7, max_det=300, half=False, dnn=False, plots=True, source=None, vid_stride=1, stream_buffer=False, visualize=False, augment=False, agnostic_nms=False, classes=None, retina_masks=False, embed=None, show=False, save_frames=False, save_txt=False, save_conf=False, save_crop=False, show_labels=True, show_conf=True, show_boxes=True, line_width=None, format=torchscript, keras=False, optimize=False, int8=False, dynamic=False, simplify=False, opset=None, workspace=4, nms=False, lr0=0.01, lrf=0.01, momentum=0.937, weight_decay=0.0005, warmup_epochs=3.0, warmup_momentum=0.8, warmup_bias_lr=0.1, box=7.5, cls=0.5, dfl=1.5, pose=12.0, kobj=1.0, label_smoothing=0.0, nbs=64, hsv_h=0.015, hsv_s=0.7, hsv_v=0.4, degrees=0.0, translate=0.1, scale=0.5, shear=0.0, perspective=0.0, flipud=0.0, fliplr=0.5, bgr=0.0, mosaic=1.0, mixup=0.0, copy_paste=0.0, auto_augment=randaugment, erasing=0.4, crop_fraction=1.0, cfg=None, tracker=botsort.yaml, save_dir=runs\\detect\\train10\n",
      "Overriding model.yaml nc=80 with nc=5\n",
      "\n",
      "                   from  n    params  module                                       arguments                     \n",
      "  0                  -1  1       464  ultralytics.nn.modules.conv.Conv             [3, 16, 3, 2]                 \n",
      "  1                  -1  1      4672  ultralytics.nn.modules.conv.Conv             [16, 32, 3, 2]                \n",
      "  2                  -1  1      7360  ultralytics.nn.modules.block.C2f             [32, 32, 1, True]             \n",
      "  3                  -1  1     18560  ultralytics.nn.modules.conv.Conv             [32, 64, 3, 2]                \n",
      "  4                  -1  2     49664  ultralytics.nn.modules.block.C2f             [64, 64, 2, True]             \n",
      "  5                  -1  1     73984  ultralytics.nn.modules.conv.Conv             [64, 128, 3, 2]               \n",
      "  6                  -1  2    197632  ultralytics.nn.modules.block.C2f             [128, 128, 2, True]           \n",
      "  7                  -1  1    295424  ultralytics.nn.modules.conv.Conv             [128, 256, 3, 2]              \n",
      "  8                  -1  1    460288  ultralytics.nn.modules.block.C2f             [256, 256, 1, True]           \n",
      "  9                  -1  1    164608  ultralytics.nn.modules.block.SPPF            [256, 256, 5]                 \n",
      " 10                  -1  1         0  torch.nn.modules.upsampling.Upsample         [None, 2, 'nearest']          \n",
      " 11             [-1, 6]  1         0  ultralytics.nn.modules.conv.Concat           [1]                           \n",
      " 12                  -1  1    148224  ultralytics.nn.modules.block.C2f             [384, 128, 1]                 \n",
      " 13                  -1  1         0  torch.nn.modules.upsampling.Upsample         [None, 2, 'nearest']          \n",
      " 14             [-1, 4]  1         0  ultralytics.nn.modules.conv.Concat           [1]                           \n",
      " 15                  -1  1     37248  ultralytics.nn.modules.block.C2f             [192, 64, 1]                  \n",
      " 16                  -1  1     36992  ultralytics.nn.modules.conv.Conv             [64, 64, 3, 2]                \n",
      " 17            [-1, 12]  1         0  ultralytics.nn.modules.conv.Concat           [1]                           \n",
      " 18                  -1  1    123648  ultralytics.nn.modules.block.C2f             [192, 128, 1]                 \n",
      " 19                  -1  1    147712  ultralytics.nn.modules.conv.Conv             [128, 128, 3, 2]              \n",
      " 20             [-1, 9]  1         0  ultralytics.nn.modules.conv.Concat           [1]                           \n",
      " 21                  -1  1    493056  ultralytics.nn.modules.block.C2f             [384, 256, 1]                 \n",
      " 22        [15, 18, 21]  1    752287  ultralytics.nn.modules.head.Detect           [5, [64, 128, 256]]           \n",
      "Model summary: 225 layers, 3,011,823 parameters, 3,011,807 gradients, 8.2 GFLOPs\n",
      "\n",
      "Transferred 319/355 items from pretrained weights\n",
      "Freezing layer 'model.22.dfl.conv.weight'\n"
     ]
    },
    {
     "name": "stderr",
     "output_type": "stream",
     "text": [
      "c:\\Users\\aravi\\anaconda3\\envs\\MLOPs\\lib\\site-packages\\ultralytics\\engine\\trainer.py:268: FutureWarning: `torch.cuda.amp.GradScaler(args...)` is deprecated. Please use `torch.amp.GradScaler('cuda', args...)` instead.\n",
      "  self.scaler = torch.cuda.amp.GradScaler(enabled=self.amp)\n",
      "\u001b[34m\u001b[1mtrain: \u001b[0mScanning X:\\DL\\Projects\\MLOPs\\artifacts\\data_ingestion\\data\\train\\labels... 2326 images, 0 backgrounds, 0 corrupt: 100%|██████████| 2326/2326 [00:06<00:00, 354.57it/s]\n"
     ]
    },
    {
     "name": "stdout",
     "output_type": "stream",
     "text": [
      "\u001b[34m\u001b[1mtrain: \u001b[0mNew cache created: X:\\DL\\Projects\\MLOPs\\artifacts\\data_ingestion\\data\\train\\labels.cache\n"
     ]
    },
    {
     "name": "stderr",
     "output_type": "stream",
     "text": [
      "\u001b[34m\u001b[1mval: \u001b[0mScanning X:\\DL\\Projects\\MLOPs\\artifacts\\data_ingestion\\data\\valid\\labels... 331 images, 0 backgrounds, 0 corrupt: 100%|██████████| 331/331 [00:01<00:00, 272.30it/s]\n"
     ]
    },
    {
     "name": "stdout",
     "output_type": "stream",
     "text": [
      "\u001b[34m\u001b[1mval: \u001b[0mNew cache created: X:\\DL\\Projects\\MLOPs\\artifacts\\data_ingestion\\data\\valid\\labels.cache\n",
      "Plotting labels to runs\\detect\\train10\\labels.jpg... \n",
      "\u001b[34m\u001b[1moptimizer:\u001b[0m 'optimizer=auto' found, ignoring 'lr0=0.01' and 'momentum=0.937' and determining best 'optimizer', 'lr0' and 'momentum' automatically... \n",
      "\u001b[34m\u001b[1moptimizer:\u001b[0m AdamW(lr=0.001111, momentum=0.9) with parameter groups 57 weight(decay=0.0), 64 weight(decay=0.0005078125), 63 bias(decay=0.0)\n",
      "Image sizes 640 train, 640 val\n",
      "Using 0 dataloader workers\n",
      "Logging results to \u001b[1mruns\\detect\\train10\u001b[0m\n",
      "Starting training for 1 epochs...\n",
      "\n",
      "      Epoch    GPU_mem   box_loss   cls_loss   dfl_loss  Instances       Size\n"
     ]
    },
    {
     "name": "stderr",
     "output_type": "stream",
     "text": [
      "        1/1         0G      1.326      2.858      1.536          5        640: 100%|██████████| 466/466 [12:00<00:00,  1.55s/it]\n",
      "                 Class     Images  Instances      Box(P          R      mAP50  mAP50-95): 100%|██████████| 34/34 [00:42<00:00,  1.25s/it]\n"
     ]
    },
    {
     "name": "stdout",
     "output_type": "stream",
     "text": [
      "                   all        331        497      0.499      0.537      0.502      0.245\n",
      "\n",
      "1 epochs completed in 0.213 hours.\n",
      "Optimizer stripped from runs\\detect\\train10\\weights\\last.pt, 6.2MB\n",
      "Optimizer stripped from runs\\detect\\train10\\weights\\best.pt, 6.2MB\n",
      "\n",
      "Validating runs\\detect\\train10\\weights\\best.pt...\n",
      "Ultralytics YOLOv8.2.67  Python-3.9.19 torch-2.4.0+cpu CPU (AMD Ryzen 7 5825U with Radeon Graphics)\n",
      "Model summary (fused): 168 layers, 3,006,623 parameters, 0 gradients, 8.1 GFLOPs\n"
     ]
    },
    {
     "name": "stderr",
     "output_type": "stream",
     "text": [
      "                 Class     Images  Instances      Box(P          R      mAP50  mAP50-95): 100%|██████████| 34/34 [00:34<00:00,  1.03s/it]\n"
     ]
    },
    {
     "name": "stdout",
     "output_type": "stream",
     "text": [
      "                   all        331        497      0.513      0.529      0.505      0.246\n",
      "              Backpack         95        117      0.721      0.575      0.706      0.359\n",
      "             Cellphone         55         76      0.395      0.474       0.36      0.214\n",
      "                 Drill         79         81      0.394      0.469      0.408      0.162\n",
      "     Fire extinguisher         85         95      0.468      0.574      0.507      0.211\n",
      "              Survivor        117        128      0.589      0.555      0.542      0.286\n",
      "Speed: 2.5ms preprocess, 84.9ms inference, 0.0ms loss, 8.2ms postprocess per image\n",
      "Results saved to \u001b[1mruns\\detect\\train10\u001b[0m\n"
     ]
    }
   ],
   "source": [
    "try:\n",
    "    obj2 = ConfigurationManager()\n",
    "    model_config = obj2.get_model_trainer()\n",
    "    dirc = obj2.get_dataingestion_config()\n",
    "    x = ModelTrainer(config=model_config, dir=dirc)\n",
    "    x.train_model()\n",
    "except Exception as e:\n",
    "    raise AppException(e, sys)\n"
   ]
  },
  {
   "cell_type": "code",
   "execution_count": null,
   "metadata": {},
   "outputs": [],
   "source": []
  }
 ],
 "metadata": {
  "kernelspec": {
   "display_name": "MLOPs",
   "language": "python",
   "name": "python3"
  },
  "language_info": {
   "codemirror_mode": {
    "name": "ipython",
    "version": 3
   },
   "file_extension": ".py",
   "mimetype": "text/x-python",
   "name": "python",
   "nbconvert_exporter": "python",
   "pygments_lexer": "ipython3",
   "version": "3.9.19"
  }
 },
 "nbformat": 4,
 "nbformat_minor": 2
}
