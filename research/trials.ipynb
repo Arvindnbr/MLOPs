{
 "cells": [
  {
   "cell_type": "code",
   "execution_count": 4,
   "metadata": {},
   "outputs": [
    {
     "data": {
      "text/plain": [
       "'x:\\\\DL\\\\Projects\\\\MLOPs'"
      ]
     },
     "execution_count": 4,
     "metadata": {},
     "output_type": "execute_result"
    }
   ],
   "source": [
    "import os\n",
    "os.chdir(\"x:\\DL\\Projects\\MLOPs\")\n",
    "%pwd"
   ]
  },
  {
   "cell_type": "code",
   "execution_count": 7,
   "metadata": {},
   "outputs": [],
   "source": [
    "from dataclasses import dataclass\n",
    "from pathlib import Path\n",
    "\n",
    "@dataclass(frozen=True)\n",
    "class DataIngestionConfig:\n",
    "    root_dir: Path\n",
    "    source_URL: str\n",
    "    local_data: Path\n",
    "    unzip_dir: Path\n",
    "\n",
    "@dataclass(frozen=True)\n",
    "class DataValidationConfig:\n",
    "    root_dir: Path\n",
    "    status_file_dir: Path\n",
    "    req_files: list\n",
    "    \n",
    "@dataclass(frozen=True)\n",
    "class ModelTrainerConfig:\n",
    "    model: str\n",
    "    save_path: Path\n",
    "    epochs: int\n",
    "    batch: int\n",
    "    imgsz: int\n",
    "\n",
    "@dataclass(frozen=True)\n",
    "class MlflowConfig:\n",
    "    mlflow_uri: str\n",
    "    experiment_name: str\n",
    "    model_name: str\n",
    "\n",
    "@dataclass(frozen=True)\n",
    "class EvaluationConfig:\n",
    "    all_params: dict\n",
    "    base_model: Path"
   ]
  },
  {
   "cell_type": "code",
   "execution_count": 9,
   "metadata": {},
   "outputs": [],
   "source": [
    "import os\n",
    "from scripts.MLOPs.constants import *\n",
    "from scripts.MLOPs.utils.common import read_yaml, create_directories\n",
    "#from scripts.MLOPs.entity.config_entity import *\n",
    "\n",
    "class ConfigurationManager:\n",
    "    def __init__(self,config_filepath = CONFIG_FILE_PATH, params_filepath = PARAMS_FILE_PATH):\n",
    "        self.config = read_yaml(config_filepath)\n",
    "        self.params = read_yaml(params_filepath)\n",
    "        create_directories([self.config.artifacts_root])\n",
    "\n",
    "    def get_dataingestion_config(self)-> DataIngestionConfig:\n",
    "        config = self.config.data_ingestion\n",
    "        create_directories([config.root_dir])\n",
    "        data_ingestion_config = DataIngestionConfig(\n",
    "            root_dir = config.root_dir,\n",
    "            source_URL= config.source_URL,\n",
    "            local_data= config.local_data,\n",
    "            unzip_dir= config.unzip_dir\n",
    "            )\n",
    "        return data_ingestion_config\n",
    "    \n",
    "    def get_datavalidation_config(self)->DataValidationConfig:\n",
    "        config = self.config.data_validation\n",
    "        create_directories([config.data_val_dir])\n",
    "        data_validation_config = DataValidationConfig(\n",
    "            root_dir=config.data_val_dir,\n",
    "            status_file_dir= config.data_val_status,\n",
    "            req_files= config.data_val_req\n",
    "            )\n",
    "        return data_validation_config\n",
    "    \n",
    "    def get_model_trainer(self)-> ModelTrainerConfig:\n",
    "        config = self.config.training_params\n",
    "        modelparams = ModelTrainerConfig(\n",
    "            model= config.model,\n",
    "            save_path= config.save_path,\n",
    "            epochs= config.epochs,\n",
    "            batch= config.batch,\n",
    "            imgsz= config.imgsz\n",
    "        )\n",
    "        return modelparams\n",
    "    \n",
    "    def get_mlflow_config(self)-> MlflowConfig:\n",
    "        config = self.config.mlflow\n",
    "        mlflow_config = MlflowConfig(\n",
    "            mlflow_uri= config.mlflow_uri,\n",
    "            experiment_name= config.experiment_name,\n",
    "            model_name= config.model_name,\n",
    "            params = self.params\n",
    "        )\n",
    "        return mlflow_config\n",
    "    \n",
    "    def get_all_params(self)-> EvaluationConfig:\n",
    "        config = self.config.training_params\n",
    "        eval_config = EvaluationConfig(\n",
    "            base_model = os.path.join(config.save_path,\"/Trainedv8.pt\"),\n",
    "            all_params = self.params\n",
    "        )\n",
    "        return eval_config\n",
    "    \n",
    "    "
   ]
  },
  {
   "cell_type": "code",
   "execution_count": null,
   "metadata": {},
   "outputs": [],
   "source": [
    "from ultralytics import YOLO, settings\n",
    "import os,sys\n",
    "import logging\n",
    "import torch\n",
    "from urllib.parse import urlparse\n",
    "import mlflow\n",
    "from scripts.MLOPs.exception import AppException\n",
    "\n",
    "\n",
    "\n",
    "class Evaluation:\n",
    "    def __init__(self, config: EvaluationConfig):\n",
    "        self.config = config\n",
    "\n",
    "\n",
    "    @staticmethod\n",
    "    def load_model(path:path):\n",
    "        return YOLO(path)\n",
    "    \n",
    "    \n"
   ]
  },
  {
   "cell_type": "code",
   "execution_count": 10,
   "metadata": {},
   "outputs": [
    {
     "name": "stdout",
     "output_type": "stream",
     "text": [
      "[0, 3, 6, 5]\n"
     ]
    }
   ],
   "source": [
    "\n",
    "def find_indices(large_list, small_subset):\n",
    "    indices = []\n",
    "    for item in small_subset:\n",
    "        item_indices = [i for i, x in enumerate(large_list) if x == item]\n",
    "        indices.extend(item_indices)\n",
    "    return indices\n",
    "\n",
    "\n",
    "large_list = ['a', 'b', 'c', 'a', 'd', 'e', 'a', 'f']\n",
    "small_subset = ['a', 'e']\n",
    "\n",
    "indices = find_indices(large_list, small_subset)\n",
    "print(indices)  # Output: [0, 3, 6, 5]"
   ]
  },
  {
   "cell_type": "code",
   "execution_count": null,
   "metadata": {},
   "outputs": [],
   "source": []
  }
 ],
 "metadata": {
  "kernelspec": {
   "display_name": "MLOPs",
   "language": "python",
   "name": "python3"
  },
  "language_info": {
   "codemirror_mode": {
    "name": "ipython",
    "version": 3
   },
   "file_extension": ".py",
   "mimetype": "text/x-python",
   "name": "python",
   "nbconvert_exporter": "python",
   "pygments_lexer": "ipython3",
   "version": "3.9.19"
  }
 },
 "nbformat": 4,
 "nbformat_minor": 2
}
